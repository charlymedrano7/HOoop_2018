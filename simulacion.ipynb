{
 "cells": [
  {
   "cell_type": "code",
   "execution_count": 1,
   "metadata": {
    "collapsed": false
   },
   "outputs": [],
   "source": [
    "import random as ran\n",
    "import main as main\n",
    "import numpy as np"
   ]
  },
  {
   "cell_type": "code",
   "execution_count": 2,
   "metadata": {
    "collapsed": true
   },
   "outputs": [],
   "source": [
    "num_clientes = 1000"
   ]
  },
  {
   "cell_type": "code",
   "execution_count": 3,
   "metadata": {
    "collapsed": false
   },
   "outputs": [],
   "source": [
    "fila_g = main.FilaGeneral()\n",
    "fila_p = main.FilaPreferencial()"
   ]
  },
  {
   "cell_type": "code",
   "execution_count": 4,
   "metadata": {
    "collapsed": true
   },
   "outputs": [],
   "source": [
    "def randomClient():                                     #Cada vez que la llamo me devuelve un cliente random\n",
    "    random_client = ran.randrange(30000000,35000000)    #número random\n",
    "    random_client = main.cliente(random_client)         #define el objeto cliente con su dni\n",
    "    return random_client"
   ]
  },
  {
   "cell_type": "code",
   "execution_count": 5,
   "metadata": {
    "collapsed": false
   },
   "outputs": [
    {
     "data": {
      "text/plain": [
       "[]"
      ]
     },
     "execution_count": 5,
     "metadata": {},
     "output_type": "execute_result"
    }
   ],
   "source": [
    "fila_g.fila"
   ]
  },
  {
   "cell_type": "code",
   "execution_count": 6,
   "metadata": {
    "collapsed": true
   },
   "outputs": [],
   "source": [
    "def funcion(a):                  #funcion que reparte los clientes en las filas por paridad\n",
    "    if a.dni%2 == 0:\n",
    "        fila_g.insertar(a)\n",
    "    if a.dni%2 != 0:\n",
    "        fila_p.insertar(a)  "
   ]
  },
  {
   "cell_type": "code",
   "execution_count": 13,
   "metadata": {
    "collapsed": false
   },
   "outputs": [],
   "source": [
    "def correrDia(num_clientes):\n",
    "    suma = 0\n",
    "    f = open( 'file.dat', 'w' )\n",
    "    while suma < num_clientes:\n",
    "        funcion(randomClient())\n",
    "        if len(fila_p.fila) != 0:\n",
    "            atender_p()\n",
    "        if len(fila_g.fila) != 0:\n",
    "            atender_g()\n",
    "        suma += 1\n",
    "        datos = str(suma)+'   '+str(fila_g.enfila)+'   '+str(fila_p.enfila)+'\\n'\n",
    "        f.write(datos)\n",
    "    f.close()\n",
    "    \n",
    "def atender_p():\n",
    "    if ran.random()*100 > 20:\n",
    "        fila_p.atender()\n",
    "\n",
    "def atender_g():\n",
    "    if ran.random()*100 > 40:\n",
    "        fila_g.atender()        "
   ]
  },
  {
   "cell_type": "code",
   "execution_count": null,
   "metadata": {
    "collapsed": true
   },
   "outputs": [],
   "source": []
  },
  {
   "cell_type": "code",
   "execution_count": 14,
   "metadata": {
    "collapsed": false
   },
   "outputs": [],
   "source": [
    "correrDia(num_clientes)"
   ]
  },
  {
   "cell_type": "code",
   "execution_count": null,
   "metadata": {
    "collapsed": false
   },
   "outputs": [],
   "source": [
    "len(fila_p.fila)"
   ]
  },
  {
   "cell_type": "code",
   "execution_count": null,
   "metadata": {
    "collapsed": false
   },
   "outputs": [],
   "source": [
    "len(fila_p.fila)+len(fila_g.fila)"
   ]
  },
  {
   "cell_type": "code",
   "execution_count": 7,
   "metadata": {
    "collapsed": true
   },
   "outputs": [],
   "source": [
    "np.savetxt?"
   ]
  },
  {
   "cell_type": "code",
   "execution_count": null,
   "metadata": {
    "collapsed": true
   },
   "outputs": [],
   "source": []
  },
  {
   "cell_type": "code",
   "execution_count": null,
   "metadata": {
    "collapsed": true
   },
   "outputs": [],
   "source": []
  }
 ],
 "metadata": {
  "kernelspec": {
   "display_name": "Python 3",
   "language": "python",
   "name": "python3"
  },
  "language_info": {
   "codemirror_mode": {
    "name": "ipython",
    "version": 3
   },
   "file_extension": ".py",
   "mimetype": "text/x-python",
   "name": "python",
   "nbconvert_exporter": "python",
   "pygments_lexer": "ipython3",
   "version": "3.6.0"
  }
 },
 "nbformat": 4,
 "nbformat_minor": 2
}
